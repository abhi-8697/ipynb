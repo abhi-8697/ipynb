{
 "cells": [
  {
   "cell_type": "code",
   "execution_count": null,
   "id": "0c730125",
   "metadata": {},
   "outputs": [
    {
     "name": "stdout",
     "output_type": "stream",
     "text": [
      "Welcome to RedBus! How can i assist you today?\n",
      ">\n"
     ]
    }
   ],
   "source": [
    "import nltk\n",
    "from nltk.chat.util import Chat,reflections\n",
    "\n",
    "pairs = [\n",
    "    [\n",
    "        r\"hi|hello|hey\",\n",
    "        [\"Hello! welcome to redbus. how can i assist you today?\"]\n",
    "    ],\n",
    "    [\n",
    "        r\"book a ticket|book|ticket\",\n",
    "        [\"Sure! i can help you with that. Please provide source and destination address for booking the bus\"]\n",
    "    ],\n",
    "    [\n",
    "        r\"cancel a ticket|cancel\",\n",
    "        [\"I'm sorry to hear that . please provide further details to for cancelation\"]\n",
    "    ],\n",
    "    [\n",
    "        r\"bus schedules?\",\n",
    "        [\"To check bus schedules , please provide the source and destination address so that i will help you further\"]\n",
    "    ],\n",
    "    [\n",
    "        r\"contact customer support|customer support|customer care|help\",\n",
    "        [\"Our customer support team is available 24/7. you can reach them at 123-456-789 or support@redbus.com\"]\n",
    "    ],\n",
    "    [\n",
    "        r\"(.*)\",\n",
    "        [\"I'm sorry , I did't understand. How can i assist you with your redbus booking\"]\n",
    "    ]\n",
    "]\n",
    "\n",
    "def chat():\n",
    "    print(\"Welcome to RedBus! How can i assist you today?\")\n",
    "    chatbot=Chat(pairs,reflections)\n",
    "    chatbot.converse()\n",
    "\n",
    "chat()"
   ]
  }
 ],
 "metadata": {
  "kernelspec": {
   "display_name": "Python 3 (ipykernel)",
   "language": "python",
   "name": "python3"
  },
  "language_info": {
   "codemirror_mode": {
    "name": "ipython",
    "version": 3
   },
   "file_extension": ".py",
   "mimetype": "text/x-python",
   "name": "python",
   "nbconvert_exporter": "python",
   "pygments_lexer": "ipython3",
   "version": "3.10.2"
  }
 },
 "nbformat": 4,
 "nbformat_minor": 5
}
